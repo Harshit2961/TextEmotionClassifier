{
 "cells": [
  {
   "cell_type": "code",
   "execution_count": 27,
   "id": "59171ff5",
   "metadata": {},
   "outputs": [],
   "source": [
    "import pandas as pd\n",
    "import numpy as np\n",
    "# import plotly.express as px\n",
    "# import plotly.graph_objects as go\n",
    "\n",
    "from sklearn.tree import DecisionTreeClassifier\n",
    "import neattext.functions as nfs\n",
    "from sklearn.linear_model import LogisticRegression\n",
    "from sklearn.svm import SVC\n",
    "\n",
    "from sklearn.feature_extraction.text import CountVectorizer\n",
    "from sklearn.model_selection import train_test_split\n",
    "\n",
    "from sklearn.metrics import classification_report\n",
    "from sklearn.metrics import *"
   ]
  },
  {
   "cell_type": "code",
   "execution_count": 28,
   "id": "b9e46f69",
   "metadata": {},
   "outputs": [],
   "source": [
    "df = pd.read_csv(r\"D:\\Python with Data Science\\DataSets\\Emotion_final.csv\")"
   ]
  },
  {
   "cell_type": "code",
   "execution_count": 29,
   "id": "33054c6a",
   "metadata": {},
   "outputs": [
    {
     "data": {
      "text/html": [
       "<div>\n",
       "<style scoped>\n",
       "    .dataframe tbody tr th:only-of-type {\n",
       "        vertical-align: middle;\n",
       "    }\n",
       "\n",
       "    .dataframe tbody tr th {\n",
       "        vertical-align: top;\n",
       "    }\n",
       "\n",
       "    .dataframe thead th {\n",
       "        text-align: right;\n",
       "    }\n",
       "</style>\n",
       "<table border=\"1\" class=\"dataframe\">\n",
       "  <thead>\n",
       "    <tr style=\"text-align: right;\">\n",
       "      <th></th>\n",
       "      <th>Text</th>\n",
       "      <th>Emotion</th>\n",
       "    </tr>\n",
       "  </thead>\n",
       "  <tbody>\n",
       "    <tr>\n",
       "      <th>0</th>\n",
       "      <td>i didnt feel humiliated</td>\n",
       "      <td>sadness</td>\n",
       "    </tr>\n",
       "    <tr>\n",
       "      <th>1</th>\n",
       "      <td>i can go from feeling so hopeless to so damned...</td>\n",
       "      <td>sadness</td>\n",
       "    </tr>\n",
       "    <tr>\n",
       "      <th>2</th>\n",
       "      <td>im grabbing a minute to post i feel greedy wrong</td>\n",
       "      <td>anger</td>\n",
       "    </tr>\n",
       "    <tr>\n",
       "      <th>3</th>\n",
       "      <td>i am ever feeling nostalgic about the fireplac...</td>\n",
       "      <td>love</td>\n",
       "    </tr>\n",
       "    <tr>\n",
       "      <th>4</th>\n",
       "      <td>i am feeling grouchy</td>\n",
       "      <td>anger</td>\n",
       "    </tr>\n",
       "    <tr>\n",
       "      <th>5</th>\n",
       "      <td>ive been feeling a little burdened lately wasn...</td>\n",
       "      <td>sadness</td>\n",
       "    </tr>\n",
       "    <tr>\n",
       "      <th>6</th>\n",
       "      <td>ive been taking or milligrams or times recomme...</td>\n",
       "      <td>surprise</td>\n",
       "    </tr>\n",
       "    <tr>\n",
       "      <th>7</th>\n",
       "      <td>i feel as confused about life as a teenager or...</td>\n",
       "      <td>fear</td>\n",
       "    </tr>\n",
       "    <tr>\n",
       "      <th>8</th>\n",
       "      <td>i have been with petronas for years i feel tha...</td>\n",
       "      <td>happy</td>\n",
       "    </tr>\n",
       "    <tr>\n",
       "      <th>9</th>\n",
       "      <td>i feel romantic too</td>\n",
       "      <td>love</td>\n",
       "    </tr>\n",
       "  </tbody>\n",
       "</table>\n",
       "</div>"
      ],
      "text/plain": [
       "                                                Text   Emotion\n",
       "0                            i didnt feel humiliated   sadness\n",
       "1  i can go from feeling so hopeless to so damned...   sadness\n",
       "2   im grabbing a minute to post i feel greedy wrong     anger\n",
       "3  i am ever feeling nostalgic about the fireplac...      love\n",
       "4                               i am feeling grouchy     anger\n",
       "5  ive been feeling a little burdened lately wasn...   sadness\n",
       "6  ive been taking or milligrams or times recomme...  surprise\n",
       "7  i feel as confused about life as a teenager or...      fear\n",
       "8  i have been with petronas for years i feel tha...     happy\n",
       "9                                i feel romantic too      love"
      ]
     },
     "execution_count": 29,
     "metadata": {},
     "output_type": "execute_result"
    }
   ],
   "source": [
    "df.head(10)"
   ]
  },
  {
   "cell_type": "code",
   "execution_count": 30,
   "id": "72678986",
   "metadata": {},
   "outputs": [
    {
     "name": "stdout",
     "output_type": "stream",
     "text": [
      "No. of rows in dataset are   :  21459\n",
      "No. of columns in dataset are:  2\n"
     ]
    }
   ],
   "source": [
    "print(\"No. of rows in dataset are   : \", df.shape[0])\n",
    "print(\"No. of columns in dataset are: \", df.shape[1])"
   ]
  },
  {
   "cell_type": "code",
   "execution_count": 31,
   "id": "7cdcb54f",
   "metadata": {},
   "outputs": [
    {
     "name": "stdout",
     "output_type": "stream",
     "text": [
      "<class 'pandas.core.frame.DataFrame'>\n",
      "RangeIndex: 21459 entries, 0 to 21458\n",
      "Data columns (total 2 columns):\n",
      " #   Column   Non-Null Count  Dtype \n",
      "---  ------   --------------  ----- \n",
      " 0   Text     21459 non-null  object\n",
      " 1   Emotion  21459 non-null  object\n",
      "dtypes: object(2)\n",
      "memory usage: 335.4+ KB\n"
     ]
    }
   ],
   "source": [
    "df.info()"
   ]
  },
  {
   "cell_type": "code",
   "execution_count": 32,
   "id": "a87e1ab7",
   "metadata": {},
   "outputs": [
    {
     "data": {
      "text/html": [
       "<div>\n",
       "<style scoped>\n",
       "    .dataframe tbody tr th:only-of-type {\n",
       "        vertical-align: middle;\n",
       "    }\n",
       "\n",
       "    .dataframe tbody tr th {\n",
       "        vertical-align: top;\n",
       "    }\n",
       "\n",
       "    .dataframe thead th {\n",
       "        text-align: right;\n",
       "    }\n",
       "</style>\n",
       "<table border=\"1\" class=\"dataframe\">\n",
       "  <thead>\n",
       "    <tr style=\"text-align: right;\">\n",
       "      <th></th>\n",
       "      <th>Text</th>\n",
       "      <th>Emotion</th>\n",
       "    </tr>\n",
       "  </thead>\n",
       "  <tbody>\n",
       "    <tr>\n",
       "      <th>count</th>\n",
       "      <td>21459</td>\n",
       "      <td>21459</td>\n",
       "    </tr>\n",
       "    <tr>\n",
       "      <th>unique</th>\n",
       "      <td>21405</td>\n",
       "      <td>6</td>\n",
       "    </tr>\n",
       "    <tr>\n",
       "      <th>top</th>\n",
       "      <td>i feel so tortured by it</td>\n",
       "      <td>happy</td>\n",
       "    </tr>\n",
       "    <tr>\n",
       "      <th>freq</th>\n",
       "      <td>2</td>\n",
       "      <td>7029</td>\n",
       "    </tr>\n",
       "  </tbody>\n",
       "</table>\n",
       "</div>"
      ],
      "text/plain": [
       "                            Text Emotion\n",
       "count                      21459   21459\n",
       "unique                     21405       6\n",
       "top     i feel so tortured by it   happy\n",
       "freq                           2    7029"
      ]
     },
     "execution_count": 32,
     "metadata": {},
     "output_type": "execute_result"
    }
   ],
   "source": [
    "df.describe()"
   ]
  },
  {
   "cell_type": "code",
   "execution_count": 33,
   "id": "46d8ccf5",
   "metadata": {},
   "outputs": [
    {
     "data": {
      "text/plain": [
       "happy       7029\n",
       "sadness     6265\n",
       "anger       2993\n",
       "fear        2652\n",
       "love        1641\n",
       "surprise     879\n",
       "Name: Emotion, dtype: int64"
      ]
     },
     "execution_count": 33,
     "metadata": {},
     "output_type": "execute_result"
    }
   ],
   "source": [
    "df[\"Emotion\"].value_counts()"
   ]
  },
  {
   "cell_type": "code",
   "execution_count": 34,
   "id": "91fcabe4",
   "metadata": {},
   "outputs": [
    {
     "data": {
      "text/plain": [
       "Text       0\n",
       "Emotion    0\n",
       "dtype: int64"
      ]
     },
     "execution_count": 34,
     "metadata": {},
     "output_type": "execute_result"
    }
   ],
   "source": [
    "df.isna().sum()"
   ]
  },
  {
   "cell_type": "code",
   "execution_count": 35,
   "id": "ef75ff50",
   "metadata": {},
   "outputs": [],
   "source": [
    "# emotion=pd.DataFrame(df[\"Emotion\"].value_counts().sort_values(ascending=False).reset_index().rename(columns={\"index\":\"Emotion\",\"Emotion\":\"Total\"}))\n",
    "\n",
    "\n",
    "# fig=px.pie(labels=emotion[\"Emotion\"],values=emotion['Total'],names=emotion[\"Emotion\"],width=500,height=500,title=\"Show the Emotions in %\")\n",
    "# fig.update_traces(textposition = 'inside', \n",
    "#                   textinfo = 'percent + label', \n",
    "#                   hole = 0.75, \n",
    "#                   marker = dict(colors = ['#3D0C02', '#800000'  , '#C11B17','#C0C0C0'], \n",
    "#                                 line = dict(color = 'white', width = 2)))\n",
    "\n",
    "# fig.update_layout(annotations = [dict(text = 'Emotions', \n",
    "#                                       x = 0.5, y = 0.5, font_size = 36, showarrow = False,                                       \n",
    "#                                       font_color = 'black')],\n",
    "#                   showlegend = False)\n",
    "\n",
    "# fig.update_xaxes(showgrid=False)\n",
    "\n",
    "# fig.update_yaxes(showgrid=False, categoryorder='total ascending', ticksuffix=' ', showline=False)\n",
    "\n",
    "# fig.update_traces(hovertemplate=None, marker=dict(line=dict(width=0)))\n",
    "\n",
    "# fig.update_layout(margin=dict(t=80, b=0, l=70, r=40),hovermode=\"y unified\",\n",
    "#                   xaxis_title=' ', yaxis_title=\" \", height=400,width=600,plot_bgcolor='#333', paper_bgcolor='#333',\n",
    "# title_font=dict(size=25, color='#8a8d93', family=\"Lato, sans-serif\"),\n",
    "# font=dict(color='#8a8d93'),\n",
    "#                   legend=dict(orientation=\"h\", yanchor=\"bottom\", y=1, xanchor=\"center\", x=1.5),\n",
    "#                   hoverlabel=dict(bgcolor=\"black\", font_size=13, font_family=\"Lato, sans-serif\"))\n",
    "                  \n",
    "                  \n",
    "\n",
    "\n",
    "# fig.show()"
   ]
  },
  {
   "cell_type": "code",
   "execution_count": 36,
   "id": "bd445e1d",
   "metadata": {},
   "outputs": [],
   "source": [
    "df[\"clean_text\"] = df[\"Text\"].apply(nfs.remove_stopwords)"
   ]
  },
  {
   "cell_type": "code",
   "execution_count": 37,
   "id": "d8ffe2c9",
   "metadata": {},
   "outputs": [],
   "source": [
    "from sklearn.pipeline import Pipeline"
   ]
  },
  {
   "cell_type": "code",
   "execution_count": 38,
   "id": "237927b2",
   "metadata": {},
   "outputs": [],
   "source": [
    "X=df[\"clean_text\"]\n",
    "y=df[\"Emotion\"]"
   ]
  },
  {
   "cell_type": "code",
   "execution_count": 39,
   "id": "3c8f2974",
   "metadata": {},
   "outputs": [],
   "source": [
    "# Training and Testing\n",
    "X_train,X_test,y_train,y_test=train_test_split(X,y,test_size=0.3,random_state=100)"
   ]
  },
  {
   "cell_type": "code",
   "execution_count": 40,
   "id": "695f6e4a",
   "metadata": {
    "scrolled": false
   },
   "outputs": [],
   "source": [
    "# svc=Pipeline(steps=[(\"cv\",CountVectorizer()),(\"svc\",SVC(C=.1,kernel=\"linear\",gamma=3))])\n",
    "# svc.fit(X_train,y_train)\n",
    "# Pipeline(steps=[('cv', CountVectorizer()),\n",
    "#                 ('svc', SVC(C=0.1, gamma=3, kernel='linear'))])"
   ]
  },
  {
   "cell_type": "code",
   "execution_count": 41,
   "id": "bf497deb",
   "metadata": {},
   "outputs": [],
   "source": [
    "# svc.score(X_test,y_test)"
   ]
  },
  {
   "cell_type": "code",
   "execution_count": 42,
   "id": "65ead0ee",
   "metadata": {},
   "outputs": [],
   "source": [
    "# print(svc.predict([\"i am unhappy\"]))"
   ]
  },
  {
   "cell_type": "code",
   "execution_count": 43,
   "id": "0862e212",
   "metadata": {},
   "outputs": [
    {
     "name": "stderr",
     "output_type": "stream",
     "text": [
      "C:\\Users\\hp\\anaconda3\\lib\\site-packages\\sklearn\\linear_model\\_logistic.py:814: ConvergenceWarning: lbfgs failed to converge (status=1):\n",
      "STOP: TOTAL NO. of ITERATIONS REACHED LIMIT.\n",
      "\n",
      "Increase the number of iterations (max_iter) or scale the data as shown in:\n",
      "    https://scikit-learn.org/stable/modules/preprocessing.html\n",
      "Please also refer to the documentation for alternative solver options:\n",
      "    https://scikit-learn.org/stable/modules/linear_model.html#logistic-regression\n",
      "  n_iter_i = _check_optimize_result(\n"
     ]
    },
    {
     "data": {
      "text/plain": [
       "Pipeline(steps=[('cv', CountVectorizer()), ('lr', LogisticRegression())])"
      ]
     },
     "execution_count": 43,
     "metadata": {},
     "output_type": "execute_result"
    }
   ],
   "source": [
    "model=Pipeline(steps=[(\"cv\",CountVectorizer()),(\"lr\",LogisticRegression())])\n",
    "model.fit(X_train,y_train)"
   ]
  },
  {
   "cell_type": "code",
   "execution_count": 44,
   "id": "2f5be75e",
   "metadata": {},
   "outputs": [
    {
     "data": {
      "text/plain": [
       "0.8849021435228331"
      ]
     },
     "execution_count": 44,
     "metadata": {},
     "output_type": "execute_result"
    }
   ],
   "source": [
    "model.score(X_test, y_test)"
   ]
  },
  {
   "cell_type": "code",
   "execution_count": 45,
   "id": "ebd0db67",
   "metadata": {},
   "outputs": [
    {
     "name": "stdout",
     "output_type": "stream",
     "text": [
      "happy\n"
     ]
    }
   ],
   "source": [
    "print(model.predict([\"hello universe\"])[0])"
   ]
  },
  {
   "cell_type": "code",
   "execution_count": 46,
   "id": "d10e9c4c",
   "metadata": {},
   "outputs": [],
   "source": [
    "predicted = model.predict(X_test)"
   ]
  },
  {
   "cell_type": "code",
   "execution_count": 47,
   "id": "2356b464",
   "metadata": {},
   "outputs": [
    {
     "data": {
      "text/plain": [
       "1"
      ]
     },
     "execution_count": 47,
     "metadata": {},
     "output_type": "execute_result"
    }
   ],
   "source": [
    "result = model.predict([\"I love Machine Learning\"])[0]\n",
    "new_result= {'happy':str(1), 'sadness':str(2), 'anger':str(3), 'fear':str(4), 'love':str(5), 'surprise':str(6)}\n",
    "emotion_code = int(new_result[result])\n",
    "emotion_code"
   ]
  },
  {
   "cell_type": "code",
   "execution_count": 48,
   "id": "56c13fea",
   "metadata": {},
   "outputs": [],
   "source": [
    "An_Example = \"I Love Machine Learning\""
   ]
  },
  {
   "cell_type": "code",
   "execution_count": 49,
   "id": "636ee518",
   "metadata": {},
   "outputs": [
    {
     "name": "stdout",
     "output_type": "stream",
     "text": [
      "              precision    recall  f1-score   support\n",
      "\n",
      "       anger       0.87      0.87      0.87       841\n",
      "        fear       0.87      0.84      0.86       818\n",
      "       happy       0.89      0.93      0.91      2101\n",
      "        love       0.84      0.75      0.79       522\n",
      "     sadness       0.91      0.92      0.91      1900\n",
      "    surprise       0.83      0.68      0.74       256\n",
      "\n",
      "    accuracy                           0.88      6438\n",
      "   macro avg       0.87      0.83      0.85      6438\n",
      "weighted avg       0.88      0.88      0.88      6438\n",
      "\n"
     ]
    }
   ],
   "source": [
    "print(classification_report(y_test, predicted))"
   ]
  },
  {
   "cell_type": "code",
   "execution_count": 50,
   "id": "128c50fd",
   "metadata": {},
   "outputs": [
    {
     "data": {
      "text/plain": [
       "0.8849021435228331"
      ]
     },
     "execution_count": 50,
     "metadata": {},
     "output_type": "execute_result"
    }
   ],
   "source": [
    "accuracy_score(y_test, predicted)"
   ]
  },
  {
   "cell_type": "code",
   "execution_count": 51,
   "id": "b9c36eb6",
   "metadata": {},
   "outputs": [
    {
     "data": {
      "text/plain": [
       "(6438,)"
      ]
     },
     "execution_count": 51,
     "metadata": {},
     "output_type": "execute_result"
    }
   ],
   "source": [
    "predicted.shape"
   ]
  },
  {
   "cell_type": "code",
   "execution_count": 52,
   "id": "2593c75f",
   "metadata": {},
   "outputs": [
    {
     "data": {
      "text/plain": [
       "array([[ 733,   21,   32,    5,   50,    0],\n",
       "       [  35,  687,   22,    2,   54,   18],\n",
       "       [  14,   10, 1963,   64,   41,    9],\n",
       "       [   6,    6,  100,  394,   15,    1],\n",
       "       [  46,   23,   70,    6, 1747,    8],\n",
       "       [   6,   40,   21,    0,   16,  173]], dtype=int64)"
      ]
     },
     "execution_count": 52,
     "metadata": {},
     "output_type": "execute_result"
    }
   ],
   "source": [
    "confusion_matrix(y_test, predicted)"
   ]
  },
  {
   "cell_type": "code",
   "execution_count": 53,
   "id": "6361d86e",
   "metadata": {},
   "outputs": [],
   "source": [
    "import pickle as pkl"
   ]
  },
  {
   "cell_type": "code",
   "execution_count": 55,
   "id": "40088e5e",
   "metadata": {},
   "outputs": [],
   "source": [
    "file = open('model.pkl', 'wb')\n",
    "pkl.dump(model, file)"
   ]
  },
  {
   "cell_type": "code",
   "execution_count": 56,
   "id": "20d77849",
   "metadata": {},
   "outputs": [],
   "source": [
    "file.close()"
   ]
  },
  {
   "cell_type": "code",
   "execution_count": null,
   "id": "4122955e",
   "metadata": {},
   "outputs": [],
   "source": []
  },
  {
   "cell_type": "code",
   "execution_count": null,
   "id": "d7cd7cd9",
   "metadata": {},
   "outputs": [],
   "source": []
  }
 ],
 "metadata": {
  "kernelspec": {
   "display_name": "Python 3 (ipykernel)",
   "language": "python",
   "name": "python3"
  },
  "language_info": {
   "codemirror_mode": {
    "name": "ipython",
    "version": 3
   },
   "file_extension": ".py",
   "mimetype": "text/x-python",
   "name": "python",
   "nbconvert_exporter": "python",
   "pygments_lexer": "ipython3",
   "version": "3.9.12"
  }
 },
 "nbformat": 4,
 "nbformat_minor": 5
}
